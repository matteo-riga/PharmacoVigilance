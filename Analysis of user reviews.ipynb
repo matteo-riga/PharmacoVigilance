{
 "cells": [
  {
   "cell_type": "code",
   "execution_count": 1,
   "id": "2aa22fae",
   "metadata": {},
   "outputs": [],
   "source": [
    "import os\n",
    "import openai\n",
    "from dotenv import load_dotenv, find_dotenv\n",
    "_ = load_dotenv(find_dotenv()) # read local .env file\n",
    "\n",
    "openai.api_key  = os.environ['OPENAI_API_KEY']"
   ]
  },
  {
   "cell_type": "code",
   "execution_count": 2,
   "id": "7e47d709",
   "metadata": {},
   "outputs": [],
   "source": [
    "from openai import OpenAI\n",
    "\n",
    "max_tokens = 100\n",
    "\n",
    "client = OpenAI(\n",
    "    # defaults to os.environ.get(\"OPENAI_API_KEY\")\n",
    "    api_key=openai.api_key,\n",
    ")\n",
    "\n",
    "def get_completion_from_messages(system_message, user_message, delimiter):\n",
    "    messages = [  \n",
    "        {'role':'system', \n",
    "         'content': system_message},    \n",
    "        {'role':'user', \n",
    "         'content': f\"{delimiter}{user_message}{delimiter}\"},  \n",
    "        ]\n",
    "    response = client.chat.completions.create(\n",
    "        model=\"gpt-3.5-turbo\",\n",
    "        messages=messages,\n",
    "        max_tokens=max_tokens\n",
    "    )\n",
    "    return response.choices[0].message.content.strip()"
   ]
  },
  {
   "cell_type": "markdown",
   "id": "0ad0fc23",
   "metadata": {},
   "source": [
    "## Initial System Setup"
   ]
  },
  {
   "cell_type": "code",
   "execution_count": 3,
   "id": "b716a520",
   "metadata": {},
   "outputs": [],
   "source": [
    "delimiter = \"####\"\n",
    "\n",
    "system_message = f\"\"\"\n",
    "You will be provided with a list of patient reviews regarding medications.  \n",
    "Each review will be delimited with {delimiter} characters.  \n",
    "Your task is to perform pharmacovigilance by classifying each review into a primary category and a secondary category based on the type of adverse drug reaction (ADR) mentioned.  \n",
    "\n",
    "Primary categories:  \n",
    "- Mild Reaction: Reactions that are not life-threatening and have minor effects on the patient's health.  \n",
    "- Moderate Reaction: Reactions that are more significant but do not require immediate intervention.  \n",
    "- Severe Reaction: Reactions that are life-threatening or require immediate medical intervention.\n",
    "\n",
    "Mild Reaction secondary categories:  \n",
    "- Skin rash  \n",
    "- Headache  \n",
    "- Fatigue  \n",
    "- Gastrointestinal discomfort  \n",
    "\n",
    "Moderate Reaction secondary categories:  \n",
    "- Dizziness  \n",
    "- Nausea  \n",
    "- Vision changes  \n",
    "- Breathing difficulty  \n",
    "\n",
    "Severe Reaction secondary categories:  \n",
    "- Anaphylaxis  \n",
    "- Heart attack  \n",
    "- Organ failure  \n",
    "- Seizures\n",
    "\n",
    "Provide the output in JSON format with the keys: \"primary\" and \"secondary.\"\n",
    "\"\"\""
   ]
  },
  {
   "cell_type": "code",
   "execution_count": 4,
   "id": "f4679176",
   "metadata": {},
   "outputs": [
    {
     "name": "stdout",
     "output_type": "stream",
     "text": [
      "{\n",
      "  \"primary\": \"Moderate Reaction\",\n",
      "  \"secondary\": [\n",
      "    \"Dizziness\",\n",
      "    \"Nausea\"\n",
      "  ]\n",
      "}\n"
     ]
    }
   ],
   "source": [
    "# Example user review message\n",
    "user_message = f\"\"\"I took the medication and started feeling dizzy along with some nausea after a few hours.\"\"\"\n",
    "\n",
    "# Call the completion function\n",
    "response = get_completion_from_messages(system_message, user_message, delimiter)\n",
    "\n",
    "# Print the response (classification)\n",
    "print(response)"
   ]
  },
  {
   "cell_type": "code",
   "execution_count": 5,
   "id": "a46437c6",
   "metadata": {},
   "outputs": [],
   "source": [
    "delimiter = \"####\"\n",
    "\n",
    "system_message_human_friendly = f\"\"\"\n",
    "You will be provided with a list of patient reviews regarding medications.  \n",
    "Each review will be delimited with {delimiter} characters.  \n",
    "Your task is to perform pharmacovigilance by classifying each review into a primary category and a secondary category based on the type of adverse drug reaction (ADR) mentioned.  \n",
    "\n",
    "Primary categories:  \n",
    "- Mild Reaction: Reactions that are not life-threatening and have minor effects on the patient's health.  \n",
    "- Moderate Reaction: Reactions that are more significant but do not require immediate intervention.  \n",
    "- Severe Reaction: Reactions that are life-threatening or require immediate medical intervention.\n",
    "\n",
    "Mild Reaction secondary categories:  \n",
    "- Skin rash  \n",
    "- Headache  \n",
    "- Fatigue  \n",
    "- Gastrointestinal discomfort  \n",
    "\n",
    "Moderate Reaction secondary categories:  \n",
    "- Dizziness  \n",
    "- Nausea  \n",
    "- Vision changes  \n",
    "- Breathing difficulty  \n",
    "\n",
    "Severe Reaction secondary categories:  \n",
    "- Anaphylaxis  \n",
    "- Heart attack  \n",
    "- Organ failure  \n",
    "- Seizures\n",
    "\n",
    "Then write a brief summary in which you synthetize the review, explaining it to a medical professional.\n",
    "\n",
    "Provide the output in JSON format with the keys: \"primary\", \"secondary\", \"review\".\n",
    "\"\"\""
   ]
  },
  {
   "cell_type": "code",
   "execution_count": 6,
   "id": "b46f269e",
   "metadata": {},
   "outputs": [
    {
     "name": "stdout",
     "output_type": "stream",
     "text": [
      "{\n",
      "    \"primary\": \"Moderate Reaction\",\n",
      "    \"secondary\": \"Dizziness\",\n",
      "    \"review\": \"The patient reported experiencing dizziness and nausea shortly after taking the medication. These symptoms indicate a moderate reaction to the drug, which may require further monitoring.\"\n",
      "}\n"
     ]
    }
   ],
   "source": [
    "# Example user review message\n",
    "user_message = f\"\"\"I took the medication and started feeling dizzy along with some nausea after a few hours.\"\"\"\n",
    "\n",
    "# Call the completion function\n",
    "response = get_completion_from_messages(system_message_human_friendly, user_message, delimiter)\n",
    "\n",
    "# Print the response (classification)\n",
    "print(response)"
   ]
  },
  {
   "cell_type": "code",
   "execution_count": 7,
   "id": "e90987ae",
   "metadata": {},
   "outputs": [],
   "source": [
    "negative_user_reviews = [\n",
    "    \"After taking the medication, I experienced severe nausea and dizziness.\",\n",
    "    \"I developed a rash on my arms and legs after three days of using the drug.\",\n",
    "    \"The medication caused constant fatigue, and I felt very weak throughout the day.\",\n",
    "    \"I had trouble breathing and felt chest tightness after the first dose.\",\n",
    "    \"I noticed my vision became blurry and I felt lightheaded for several hours.\",\n",
    "    \"The drug gave me severe headaches, and I couldn’t focus on anything.\",\n",
    "    \"After a few weeks, I started experiencing gastrointestinal discomfort and stomach cramps.\",\n",
    "    \"I had an allergic reaction, including swelling and difficulty breathing. I had to go to the emergency room.\",\n",
    "    \"My heart started racing, and I felt anxious after taking the medication for two days.\",\n",
    "    \"I had seizures after starting this medication, which had never happened before.\"\n",
    "]\n",
    "\n",
    "positive_user_reviews = [\n",
    "    \"This medication worked wonders for my migraines, and I felt relief within hours!\",\n",
    "    \"After starting this treatment, my energy levels improved, and I no longer feel tired throughout the day.\",\n",
    "    \"My blood pressure has been stable ever since I began taking this medication. I’m very satisfied with the results.\",\n",
    "    \"This drug completely cleared up my skin condition, and I haven’t had any side effects.\",\n",
    "    \"I’ve been using this medication for months, and it’s been a life-changer. My pain has significantly decreased.\",\n",
    "    \"The treatment helped me sleep better at night, and I wake up feeling refreshed and full of energy.\",\n",
    "    \"My mood has improved dramatically since starting this medication, and I feel much more positive overall.\",\n",
    "    \"I haven’t had any side effects, and my symptoms have almost completely disappeared. This drug has been a game-changer.\",\n",
    "    \"My joint pain has reduced significantly, and I can now move freely without discomfort.\",\n",
    "    \"The medication was easy to take, and I saw improvements within the first week. Very happy with the results!\"\n",
    "]"
   ]
  },
  {
   "cell_type": "code",
   "execution_count": 8,
   "id": "c00edf67",
   "metadata": {},
   "outputs": [],
   "source": [
    "def evaluate(user_message):\n",
    "    # Delimiter for the review\n",
    "    delimiter = \"####\"\n",
    "    \n",
    "    # Call the completion function\n",
    "    response = get_completion_from_messages(system_message_human_friendly, user_message, delimiter)\n",
    "\n",
    "    # Print the response (classification)\n",
    "    # print(response)\n",
    "    \n",
    "    return response"
   ]
  },
  {
   "cell_type": "code",
   "execution_count": 9,
   "id": "930c4f63",
   "metadata": {},
   "outputs": [
    {
     "name": "stdout",
     "output_type": "stream",
     "text": [
      "After taking the medication, I experienced severe nausea and dizziness.\n",
      "{\n",
      "    \"primary\": \"Moderate Reaction\",\n",
      "    \"secondary\": [\n",
      "        \"Nausea\",\n",
      "        \"Dizziness\"\n",
      "    ],\n",
      "    \"review\": \"The patient reported experiencing severe nausea and dizziness after taking the medication. These symptoms indicate a moderate adverse drug reaction and may require further evaluation.\"\n",
      "}\n"
     ]
    }
   ],
   "source": [
    "# Initialize an empty list to hold combined data\n",
    "combined_responses = []\n",
    "\n",
    "# Iterate over negative user reviews and their evaluated responses\n",
    "for rev in negative_user_reviews:\n",
    "    response = evaluate(rev)  # Assume this function evaluates the review\n",
    "    combined_responses.append({\"review\": rev, \"response\": response})\n",
    "\n",
    "# Print the first negative user review and its response\n",
    "print(combined_responses[0]['review'])\n",
    "print(combined_responses[0]['response'])"
   ]
  },
  {
   "cell_type": "code",
   "execution_count": 10,
   "id": "f3110622",
   "metadata": {},
   "outputs": [
    {
     "name": "stdout",
     "output_type": "stream",
     "text": [
      "Combined responses have been saved to 'combined_responses.json'.\n"
     ]
    }
   ],
   "source": [
    "import json\n",
    "\n",
    "# Save the combined responses to a JSON file\n",
    "with open('combined_responses_neg.json', 'w') as file:\n",
    "    json.dump(combined_responses, file, indent=4)\n",
    "\n",
    "print(\"Combined responses have been saved to 'combined_responses.json'.\")\n"
   ]
  },
  {
   "cell_type": "code",
   "execution_count": 11,
   "id": "ba77f533",
   "metadata": {},
   "outputs": [
    {
     "name": "stdout",
     "output_type": "stream",
     "text": [
      "This medication worked wonders for my migraines, and I felt relief within hours!\n",
      "{\n",
      "    \"primary\": \"Mild Reaction\",\n",
      "    \"secondary\": \"Headache\",\n",
      "    \"review\": \"This medication provided quick relief for migraines with no adverse effects reported.\"\n",
      "}\n",
      "Combined responses have been saved to 'combined_responses_pos.json'.\n"
     ]
    }
   ],
   "source": [
    "# Initialize an empty list to hold combined data\n",
    "combined_responses = []\n",
    "\n",
    "# Iterate over negative user reviews and their evaluated responses\n",
    "for rev in positive_user_reviews:\n",
    "    response = evaluate(rev)  # Assume this function evaluates the review\n",
    "    combined_responses.append({\"review\": rev, \"response\": response})\n",
    "\n",
    "# Print the first negative user review and its response\n",
    "print(combined_responses[0]['review'])\n",
    "print(combined_responses[0]['response'])\n",
    "\n",
    "# Save the combined responses to a JSON file\n",
    "with open('combined_responses_pos.json', 'w') as file:\n",
    "    json.dump(combined_responses, file, indent=4)\n",
    "\n",
    "print(\"Combined responses have been saved to 'combined_responses_pos.json'.\")"
   ]
  },
  {
   "cell_type": "markdown",
   "id": "afba020b",
   "metadata": {},
   "source": [
    "## Real world Vantin review"
   ]
  },
  {
   "cell_type": "code",
   "execution_count": 12,
   "id": "6d61cf24",
   "metadata": {},
   "outputs": [],
   "source": [
    "def perform_review_analysis(reviews_list, output_filename):\n",
    "    for rev in reviews_list:\n",
    "        response = evaluate(rev)  # Assume this function evaluates the review\n",
    "        combined_responses.append({\"review\": rev, \"response\": response})\n",
    "\n",
    "    # Save the combined responses to a JSON file\n",
    "    with open(output_filename, 'w') as file:\n",
    "        json.dump(combined_responses, file, indent=4)"
   ]
  },
  {
   "cell_type": "code",
   "execution_count": 13,
   "id": "2e392aa6",
   "metadata": {},
   "outputs": [],
   "source": [
    "vantin_user_reviews = []\n",
    "vantin_user_reviews_link = ''\n",
    "\n",
    "with open('Vantin_user_reviews.txt', 'r') as f:\n",
    "    for line in f:\n",
    "        if 'http' in line:\n",
    "            vantin_user_reviews_link = line\n",
    "        else:\n",
    "            vantin_user_reviews.append(line)"
   ]
  },
  {
   "cell_type": "code",
   "execution_count": 14,
   "id": "f615a689",
   "metadata": {},
   "outputs": [
    {
     "name": "stdout",
     "output_type": "stream",
     "text": [
      "For Pneumonia \"On my fourth pill of Vantin in a few more hours, and I couldn't believe the rapidity of the healing! I am taking it for Klebsiella pneumoniae, along with Macrobid for Enterobacter bacteria! I have had dry mouth, dry throat, increased thirst, slight ringing in ears that has passed, headache, ugh, was the worst so far, but not horrible. Heavier menstrual period, a little dizziness, and hey! I'm penicillin allergic. So I think I'm doing A-1.\"\n",
      "\n"
     ]
    }
   ],
   "source": [
    "print(vantin_user_reviews[0])"
   ]
  },
  {
   "cell_type": "code",
   "execution_count": 15,
   "id": "16461d57",
   "metadata": {},
   "outputs": [],
   "source": [
    "filename = 'vantin_review_analysis_result.json'\n",
    "perform_review_analysis(vantin_user_reviews, filename)"
   ]
  },
  {
   "cell_type": "markdown",
   "id": "828f1495",
   "metadata": {},
   "source": [
    "## Prettify json output"
   ]
  },
  {
   "cell_type": "code",
   "execution_count": 16,
   "id": "b6aff32a",
   "metadata": {},
   "outputs": [
    {
     "name": "stdout",
     "output_type": "stream",
     "text": [
      "[{'review': 'This medication worked wonders for my migraines, and I felt relief within hours!', 'response': '{\\n    \"primary\": \"Mild Reaction\",\\n    \"secondary\": \"Headache\",\\n    \"review\": \"This medication provided quick relief for migraines with no adverse effects reported.\"\\n}'}, {'review': 'After starting this treatment, my energy levels improved, and I no longer feel tired throughout the day.', 'response': '{\\n    \"primary\": \"Mild Reaction\",\\n    \"secondary\": \"Fatigue\",\\n    \"review\": \"After starting this treatment, the patient experienced improved energy levels and no longer feels tired throughout the day.\"\\n}'}, {'review': 'My blood pressure has been stable ever since I began taking this medication. I’m very satisfied with the results.', 'response': '{\\n    \"primary\": \"Mild Reaction\",\\n    \"secondary\": null,\\n    \"review\": \"The patient experienced stable blood pressure and is satisfied with the medication.\"\\n}'}, {'review': 'This drug completely cleared up my skin condition, and I haven’t had any side effects.', 'response': '{\\n    \"primary\": \"Mild Reaction\",\\n    \"secondary\": \"Skin rash\",\\n    \"review\": \"The patient experienced a mild reaction to the medication, with the primary benefit of the drug being the clearance of their skin condition. No side effects were reported.\"\\n}'}, {'review': 'I’ve been using this medication for months, and it’s been a life-changer. My pain has significantly decreased.', 'response': '{\\n    \"primary\": \"Mild Reaction\",\\n    \"secondary\": \"N/A\",\\n    \"review\": \"The patient experienced a significant decrease in pain after using the medication for months, indicating a mild reaction.\"\\n}'}, {'review': 'The treatment helped me sleep better at night, and I wake up feeling refreshed and full of energy.', 'response': '{\\n    \"primary\": \"Mild Reaction\",\\n    \"secondary\": \"Fatigue\",\\n    \"review\": \"The patient reported feeling refreshed and full of energy after using the treatment for better sleep at night. This indicates a mild reaction related to improved energy levels.\"\\n}'}, {'review': 'My mood has improved dramatically since starting this medication, and I feel much more positive overall.', 'response': '{\\n  \"primary\": \"Mild Reaction\",\\n  \"secondary\": \"None\",\\n  \"review\": \"The patient experienced improved mood and overall positivity since starting the medication. No adverse drug reactions were mentioned.\"\\n}'}, {'review': 'I haven’t had any side effects, and my symptoms have almost completely disappeared. This drug has been a game-changer.', 'response': '{\\n    \"primary\": \"Mild Reaction\",\\n    \"secondary\": \"N/A\",\\n    \"review\": \"The patient reported no side effects and a significant improvement in symptoms after taking the medication, considering it a game-changer.\"\\n}'}, {'review': 'My joint pain has reduced significantly, and I can now move freely without discomfort.', 'response': '{\\n    \"primary\": \"Mild Reaction\",\\n    \"secondary\": \"None\",\\n    \"review\": \"The patient experienced a reduction in joint pain, allowing for improved mobility without discomfort. No adverse drug reactions were reported.\"\\n}'}, {'review': 'The medication was easy to take, and I saw improvements within the first week. Very happy with the results!', 'response': '{\\n    \"primary\": \"Mild Reaction\",\\n    \"secondary\": \"N/A\",\\n    \"review\": \"The patient experienced improvements within the first week of taking the medication. Overall, the medication was well-tolerated and resulted in a positive outcome.\"\\n}'}, {'review': 'For Pneumonia \"On my fourth pill of Vantin in a few more hours, and I couldn\\'t believe the rapidity of the healing! I am taking it for Klebsiella pneumoniae, along with Macrobid for Enterobacter bacteria! I have had dry mouth, dry throat, increased thirst, slight ringing in ears that has passed, headache, ugh, was the worst so far, but not horrible. Heavier menstrual period, a little dizziness, and hey! I\\'m penicillin allergic. So I think I\\'m doing A-1.\"\\n', 'response': '{\\n    \"primary\": \"Mild Reaction\",\\n    \"secondary\": \"Headache\",\\n    \"review\": \"The patient is taking Vantin for pneumonia caused by Klebsiella pneumoniae and Macrobid for Enterobacter bacteria. They have experienced dry mouth, dry throat, increased thirst, slight ringing in ears, headache, heavier menstrual period, and a little dizziness. The patient is also allergic to penicillin but overall feels that they are doing well on the medications.\"\\n}'}, {'review': 'For Bronchitis \"On the third pill I experienced very severe diarrhea which caused me to discontinue the medication. I am still experiencing the diarrhea even though I have been off the medicine for a few days. Also experiencing malaise and fatigue.\"\\n', 'response': '{\\n    \"primary\": \"Moderate Reaction\",\\n    \"secondary\": \"Gastrointestinal discomfort\",\\n    \"review\": \"The patient experienced severe diarrhea after taking the medication for bronchitis, leading to discontinuation. The diarrhea persists even after stopping the medication, accompanied by malaise and fatigue. Immediate medical attention may be required to address the gastrointestinal discomfort.\"\\n}'}, {'review': 'For Bladder Infection \"I\\'ve had many urinary tract infections, and the normal medicines just quit working. I\\'ve been successfully treated with Vantin three times.\"\\n', 'response': '{\\n    \"primary\": \"Mild Reaction\",\\n    \"secondary\": \"Gastrointestinal discomfort\",\\n    \"review\": \"The patient experienced gastrointestinal discomfort while being successfully treated with Vantin for a bladder infection. The usual medicines had stopped working, but Vantin proved effective in treating the condition.\"\\n}'}, {'review': 'For Sinusitis \"Vantin worked the best for me with sinusitis, whereas the \\'z-pack\\' did not relieve me at all.\"\\n', 'response': '{\\n  \"primary\": \"Mild Reaction\",\\n  \"secondary\": \"Gastrointestinal discomfort\",\\n  \"review\": \"The patient reported that Vantin worked the best for their sinusitis, while the \\'z-pack\\' did not provide any relief. They did not experience any life-threatening effects, but mentioned experiencing gastrointestinal discomfort.\"\\n}'}, {'review': 'For Pneumonia \"This antibiotic worked really fast with no side effects for me.\"\\n', 'response': '{\\n  \"primary\": \"Mild Reaction\",\\n  \"secondary\": null,\\n  \"review\": \"This antibiotic worked really fast with no side effects for me. The patient reported a positive experience with the medication, mentioning that it worked quickly and did not cause any side effects.\"\\n}'}, {'review': 'For Upper Respiratory Tract Infection \"Works great..... No side effects and clears up my frequent sinus infections quickly!\"', 'response': '{\\n  \"primary\": \"Mild Reaction\",\\n  \"secondary\": \"None\",\\n  \"review\": \"This medication has been effective in treating the patient\\'s upper respiratory tract infection, with no reported side effects. It quickly clears up frequent sinus infections.\"\\n}'}]\n"
     ]
    }
   ],
   "source": [
    "with open(filename, 'r') as file:\n",
    "    data = json.load(file)\n",
    "\n",
    "print(data)"
   ]
  },
  {
   "cell_type": "code",
   "execution_count": 17,
   "id": "5ce36f9c",
   "metadata": {},
   "outputs": [
    {
     "name": "stderr",
     "output_type": "stream",
     "text": [
      "C:\\Users\\Matteo\\anaconda3\\lib\\site-packages\\pandas\\core\\arrays\\masked.py:60: UserWarning: Pandas requires version '1.3.6' or newer of 'bottleneck' (version '1.3.5' currently installed).\n",
      "  from pandas.core import (\n"
     ]
    },
    {
     "data": {
      "text/html": [
       "<table border=\"1\" class=\"dataframe table table-striped\">\n",
       "  <thead>\n",
       "    <tr style=\"text-align: right;\">\n",
       "      <th>review</th>\n",
       "      <th>response</th>\n",
       "    </tr>\n",
       "  </thead>\n",
       "  <tbody>\n",
       "    <tr>\n",
       "      <td>This medication worked wonders for my migraines, and I felt relief within hours!</td>\n",
       "      <td>{\\n    \"primary\": \"Mild Reaction\",\\n    \"secondary\": \"Headache\",\\n    \"review\": \"This medication provided quick relief for migraines with no adverse effects reported.\"\\n}</td>\n",
       "    </tr>\n",
       "    <tr>\n",
       "      <td>After starting this treatment, my energy levels improved, and I no longer feel tired throughout the day.</td>\n",
       "      <td>{\\n    \"primary\": \"Mild Reaction\",\\n    \"secondary\": \"Fatigue\",\\n    \"review\": \"After starting this treatment, the patient experienced improved energy levels and no longer feels tired throughout the day.\"\\n}</td>\n",
       "    </tr>\n",
       "    <tr>\n",
       "      <td>My blood pressure has been stable ever since I began taking this medication. I’m very satisfied with the results.</td>\n",
       "      <td>{\\n    \"primary\": \"Mild Reaction\",\\n    \"secondary\": null,\\n    \"review\": \"The patient experienced stable blood pressure and is satisfied with the medication.\"\\n}</td>\n",
       "    </tr>\n",
       "    <tr>\n",
       "      <td>This drug completely cleared up my skin condition, and I haven’t had any side effects.</td>\n",
       "      <td>{\\n    \"primary\": \"Mild Reaction\",\\n    \"secondary\": \"Skin rash\",\\n    \"review\": \"The patient experienced a mild reaction to the medication, with the primary benefit of the drug being the clearance of their skin condition. No side effects were reported.\"\\n}</td>\n",
       "    </tr>\n",
       "    <tr>\n",
       "      <td>I’ve been using this medication for months, and it’s been a life-changer. My pain has significantly decreased.</td>\n",
       "      <td>{\\n    \"primary\": \"Mild Reaction\",\\n    \"secondary\": \"N/A\",\\n    \"review\": \"The patient experienced a significant decrease in pain after using the medication for months, indicating a mild reaction.\"\\n}</td>\n",
       "    </tr>\n",
       "    <tr>\n",
       "      <td>The treatment helped me sleep better at night, and I wake up feeling refreshed and full of energy.</td>\n",
       "      <td>{\\n    \"primary\": \"Mild Reaction\",\\n    \"secondary\": \"Fatigue\",\\n    \"review\": \"The patient reported feeling refreshed and full of energy after using the treatment for better sleep at night. This indicates a mild reaction related to improved energy levels.\"\\n}</td>\n",
       "    </tr>\n",
       "    <tr>\n",
       "      <td>My mood has improved dramatically since starting this medication, and I feel much more positive overall.</td>\n",
       "      <td>{\\n  \"primary\": \"Mild Reaction\",\\n  \"secondary\": \"None\",\\n  \"review\": \"The patient experienced improved mood and overall positivity since starting the medication. No adverse drug reactions were mentioned.\"\\n}</td>\n",
       "    </tr>\n",
       "    <tr>\n",
       "      <td>I haven’t had any side effects, and my symptoms have almost completely disappeared. This drug has been a game-changer.</td>\n",
       "      <td>{\\n    \"primary\": \"Mild Reaction\",\\n    \"secondary\": \"N/A\",\\n    \"review\": \"The patient reported no side effects and a significant improvement in symptoms after taking the medication, considering it a game-changer.\"\\n}</td>\n",
       "    </tr>\n",
       "    <tr>\n",
       "      <td>My joint pain has reduced significantly, and I can now move freely without discomfort.</td>\n",
       "      <td>{\\n    \"primary\": \"Mild Reaction\",\\n    \"secondary\": \"None\",\\n    \"review\": \"The patient experienced a reduction in joint pain, allowing for improved mobility without discomfort. No adverse drug reactions were reported.\"\\n}</td>\n",
       "    </tr>\n",
       "    <tr>\n",
       "      <td>The medication was easy to take, and I saw improvements within the first week. Very happy with the results!</td>\n",
       "      <td>{\\n    \"primary\": \"Mild Reaction\",\\n    \"secondary\": \"N/A\",\\n    \"review\": \"The patient experienced improvements within the first week of taking the medication. Overall, the medication was well-tolerated and resulted in a positive outcome.\"\\n}</td>\n",
       "    </tr>\n",
       "    <tr>\n",
       "      <td>For Pneumonia \"On my fourth pill of Vantin in a few more hours, and I couldn't believe the rapidity of the healing! I am taking it for Klebsiella pneumoniae, along with Macrobid for Enterobacter bacteria! I have had dry mouth, dry throat, increased thirst, slight ringing in ears that has passed, headache, ugh, was the worst so far, but not horrible. Heavier menstrual period, a little dizziness, and hey! I'm penicillin allergic. So I think I'm doing A-1.\"\\n</td>\n",
       "      <td>{\\n    \"primary\": \"Mild Reaction\",\\n    \"secondary\": \"Headache\",\\n    \"review\": \"The patient is taking Vantin for pneumonia caused by Klebsiella pneumoniae and Macrobid for Enterobacter bacteria. They have experienced dry mouth, dry throat, increased thirst, slight ringing in ears, headache, heavier menstrual period, and a little dizziness. The patient is also allergic to penicillin but overall feels that they are doing well on the medications.\"\\n}</td>\n",
       "    </tr>\n",
       "    <tr>\n",
       "      <td>For Bronchitis \"On the third pill I experienced very severe diarrhea which caused me to discontinue the medication. I am still experiencing the diarrhea even though I have been off the medicine for a few days. Also experiencing malaise and fatigue.\"\\n</td>\n",
       "      <td>{\\n    \"primary\": \"Moderate Reaction\",\\n    \"secondary\": \"Gastrointestinal discomfort\",\\n    \"review\": \"The patient experienced severe diarrhea after taking the medication for bronchitis, leading to discontinuation. The diarrhea persists even after stopping the medication, accompanied by malaise and fatigue. Immediate medical attention may be required to address the gastrointestinal discomfort.\"\\n}</td>\n",
       "    </tr>\n",
       "    <tr>\n",
       "      <td>For Bladder Infection \"I've had many urinary tract infections, and the normal medicines just quit working. I've been successfully treated with Vantin three times.\"\\n</td>\n",
       "      <td>{\\n    \"primary\": \"Mild Reaction\",\\n    \"secondary\": \"Gastrointestinal discomfort\",\\n    \"review\": \"The patient experienced gastrointestinal discomfort while being successfully treated with Vantin for a bladder infection. The usual medicines had stopped working, but Vantin proved effective in treating the condition.\"\\n}</td>\n",
       "    </tr>\n",
       "    <tr>\n",
       "      <td>For Sinusitis \"Vantin worked the best for me with sinusitis, whereas the 'z-pack' did not relieve me at all.\"\\n</td>\n",
       "      <td>{\\n  \"primary\": \"Mild Reaction\",\\n  \"secondary\": \"Gastrointestinal discomfort\",\\n  \"review\": \"The patient reported that Vantin worked the best for their sinusitis, while the 'z-pack' did not provide any relief. They did not experience any life-threatening effects, but mentioned experiencing gastrointestinal discomfort.\"\\n}</td>\n",
       "    </tr>\n",
       "    <tr>\n",
       "      <td>For Pneumonia \"This antibiotic worked really fast with no side effects for me.\"\\n</td>\n",
       "      <td>{\\n  \"primary\": \"Mild Reaction\",\\n  \"secondary\": null,\\n  \"review\": \"This antibiotic worked really fast with no side effects for me. The patient reported a positive experience with the medication, mentioning that it worked quickly and did not cause any side effects.\"\\n}</td>\n",
       "    </tr>\n",
       "    <tr>\n",
       "      <td>For Upper Respiratory Tract Infection \"Works great..... No side effects and clears up my frequent sinus infections quickly!\"</td>\n",
       "      <td>{\\n  \"primary\": \"Mild Reaction\",\\n  \"secondary\": \"None\",\\n  \"review\": \"This medication has been effective in treating the patient's upper respiratory tract infection, with no reported side effects. It quickly clears up frequent sinus infections.\"\\n}</td>\n",
       "    </tr>\n",
       "  </tbody>\n",
       "</table>"
      ],
      "text/plain": [
       "<IPython.core.display.HTML object>"
      ]
     },
     "execution_count": 17,
     "metadata": {},
     "output_type": "execute_result"
    }
   ],
   "source": [
    "import pandas as pd\n",
    "from IPython.display import HTML\n",
    "\n",
    "# Convert JSON to DataFrame\n",
    "df = pd.DataFrame(data)\n",
    "\n",
    "# Create an HTML table\n",
    "html_table = df.to_html(classes='table table-striped', index=False)\n",
    "\n",
    "# Display the HTML\n",
    "HTML(html_table)\n"
   ]
  },
  {
   "cell_type": "code",
   "execution_count": 22,
   "id": "fe9a57cd",
   "metadata": {},
   "outputs": [
    {
     "data": {
      "text/html": [
       "<div>\n",
       "<style scoped>\n",
       "    .dataframe tbody tr th:only-of-type {\n",
       "        vertical-align: middle;\n",
       "    }\n",
       "\n",
       "    .dataframe tbody tr th {\n",
       "        vertical-align: top;\n",
       "    }\n",
       "\n",
       "    .dataframe thead th {\n",
       "        text-align: right;\n",
       "    }\n",
       "</style>\n",
       "<table border=\"1\" class=\"dataframe\">\n",
       "  <thead>\n",
       "    <tr style=\"text-align: right;\">\n",
       "      <th></th>\n",
       "      <th>primary</th>\n",
       "      <th>secondary</th>\n",
       "      <th>review</th>\n",
       "    </tr>\n",
       "  </thead>\n",
       "  <tbody>\n",
       "    <tr>\n",
       "      <th>0</th>\n",
       "      <td>Mild Reaction</td>\n",
       "      <td>Headache</td>\n",
       "      <td>This medication provided quick relief for migr...</td>\n",
       "    </tr>\n",
       "    <tr>\n",
       "      <th>1</th>\n",
       "      <td>Mild Reaction</td>\n",
       "      <td>Fatigue</td>\n",
       "      <td>After starting this treatment, the patient exp...</td>\n",
       "    </tr>\n",
       "    <tr>\n",
       "      <th>2</th>\n",
       "      <td>Mild Reaction</td>\n",
       "      <td>None</td>\n",
       "      <td>The patient experienced stable blood pressure ...</td>\n",
       "    </tr>\n",
       "    <tr>\n",
       "      <th>3</th>\n",
       "      <td>Mild Reaction</td>\n",
       "      <td>Skin rash</td>\n",
       "      <td>The patient experienced a mild reaction to the...</td>\n",
       "    </tr>\n",
       "    <tr>\n",
       "      <th>4</th>\n",
       "      <td>Mild Reaction</td>\n",
       "      <td>N/A</td>\n",
       "      <td>The patient experienced a significant decrease...</td>\n",
       "    </tr>\n",
       "  </tbody>\n",
       "</table>\n",
       "</div>"
      ],
      "text/plain": [
       "         primary  secondary                                             review\n",
       "0  Mild Reaction   Headache  This medication provided quick relief for migr...\n",
       "1  Mild Reaction    Fatigue  After starting this treatment, the patient exp...\n",
       "2  Mild Reaction       None  The patient experienced stable blood pressure ...\n",
       "3  Mild Reaction  Skin rash  The patient experienced a mild reaction to the...\n",
       "4  Mild Reaction        N/A  The patient experienced a significant decrease..."
      ]
     },
     "execution_count": 22,
     "metadata": {},
     "output_type": "execute_result"
    }
   ],
   "source": [
    "df.head()\n",
    "df['parsed_response'] = df['response'].apply(json.loads)\n",
    "normalized_df = pd.json_normalize(df['parsed_response'])\n",
    "\n",
    "normalized_df.head()"
   ]
  },
  {
   "cell_type": "code",
   "execution_count": 27,
   "id": "b0bc25b4",
   "metadata": {},
   "outputs": [
    {
     "data": {
      "text/html": [
       "<div>\n",
       "<style scoped>\n",
       "    .dataframe tbody tr th:only-of-type {\n",
       "        vertical-align: middle;\n",
       "    }\n",
       "\n",
       "    .dataframe tbody tr th {\n",
       "        vertical-align: top;\n",
       "    }\n",
       "\n",
       "    .dataframe thead th {\n",
       "        text-align: right;\n",
       "    }\n",
       "</style>\n",
       "<table border=\"1\" class=\"dataframe\">\n",
       "  <thead>\n",
       "    <tr style=\"text-align: right;\">\n",
       "      <th></th>\n",
       "      <th>primary</th>\n",
       "      <th>secondary</th>\n",
       "      <th>technical_review</th>\n",
       "      <th>user_review</th>\n",
       "    </tr>\n",
       "  </thead>\n",
       "  <tbody>\n",
       "    <tr>\n",
       "      <th>0</th>\n",
       "      <td>Mild Reaction</td>\n",
       "      <td>Headache</td>\n",
       "      <td>This medication provided quick relief for migr...</td>\n",
       "      <td>This medication worked wonders for my migraine...</td>\n",
       "    </tr>\n",
       "    <tr>\n",
       "      <th>1</th>\n",
       "      <td>Mild Reaction</td>\n",
       "      <td>Fatigue</td>\n",
       "      <td>After starting this treatment, the patient exp...</td>\n",
       "      <td>After starting this treatment, my energy level...</td>\n",
       "    </tr>\n",
       "    <tr>\n",
       "      <th>2</th>\n",
       "      <td>Mild Reaction</td>\n",
       "      <td>None</td>\n",
       "      <td>The patient experienced stable blood pressure ...</td>\n",
       "      <td>My blood pressure has been stable ever since I...</td>\n",
       "    </tr>\n",
       "    <tr>\n",
       "      <th>3</th>\n",
       "      <td>Mild Reaction</td>\n",
       "      <td>Skin rash</td>\n",
       "      <td>The patient experienced a mild reaction to the...</td>\n",
       "      <td>This drug completely cleared up my skin condit...</td>\n",
       "    </tr>\n",
       "    <tr>\n",
       "      <th>4</th>\n",
       "      <td>Mild Reaction</td>\n",
       "      <td>N/A</td>\n",
       "      <td>The patient experienced a significant decrease...</td>\n",
       "      <td>I’ve been using this medication for months, an...</td>\n",
       "    </tr>\n",
       "  </tbody>\n",
       "</table>\n",
       "</div>"
      ],
      "text/plain": [
       "         primary  secondary  \\\n",
       "0  Mild Reaction   Headache   \n",
       "1  Mild Reaction    Fatigue   \n",
       "2  Mild Reaction       None   \n",
       "3  Mild Reaction  Skin rash   \n",
       "4  Mild Reaction        N/A   \n",
       "\n",
       "                                    technical_review  \\\n",
       "0  This medication provided quick relief for migr...   \n",
       "1  After starting this treatment, the patient exp...   \n",
       "2  The patient experienced stable blood pressure ...   \n",
       "3  The patient experienced a mild reaction to the...   \n",
       "4  The patient experienced a significant decrease...   \n",
       "\n",
       "                                         user_review  \n",
       "0  This medication worked wonders for my migraine...  \n",
       "1  After starting this treatment, my energy level...  \n",
       "2  My blood pressure has been stable ever since I...  \n",
       "3  This drug completely cleared up my skin condit...  \n",
       "4  I’ve been using this medication for months, an...  "
      ]
     },
     "execution_count": 27,
     "metadata": {},
     "output_type": "execute_result"
    }
   ],
   "source": [
    "reviews = df['review']  # This column already contains the reviews\n",
    "final_df = pd.concat([normalized_df, reviews], axis=1)\n",
    "final_df.columns = ['primary', 'secondary', 'technical_review', 'user_review']\n",
    "\n",
    "final_df.head()"
   ]
  },
  {
   "cell_type": "code",
   "execution_count": null,
   "id": "fef36096",
   "metadata": {},
   "outputs": [],
   "source": []
  }
 ],
 "metadata": {
  "kernelspec": {
   "display_name": "Python 3 (ipykernel)",
   "language": "python",
   "name": "python3"
  },
  "language_info": {
   "codemirror_mode": {
    "name": "ipython",
    "version": 3
   },
   "file_extension": ".py",
   "mimetype": "text/x-python",
   "name": "python",
   "nbconvert_exporter": "python",
   "pygments_lexer": "ipython3",
   "version": "3.10.9"
  }
 },
 "nbformat": 4,
 "nbformat_minor": 5
}

{
 "cells": [
  {
   "cell_type": "code",
   "execution_count": 1,
   "id": "2aa22fae",
   "metadata": {},
   "outputs": [],
   "source": [
    "import os\n",
    "import openai\n",
    "from dotenv import load_dotenv, find_dotenv\n",
    "_ = load_dotenv(find_dotenv()) # read local .env file\n",
    "\n",
    "openai.api_key  = os.environ['OPENAI_API_KEY']"
   ]
  },
  {
   "cell_type": "code",
   "execution_count": 6,
   "id": "7e47d709",
   "metadata": {},
   "outputs": [],
   "source": [
    "from openai import OpenAI\n",
    "\n",
    "max_tokens = 100\n",
    "\n",
    "client = OpenAI(\n",
    "    # defaults to os.environ.get(\"OPENAI_API_KEY\")\n",
    "    api_key=openai.api_key,\n",
    ")\n",
    "\n",
    "def get_completion_from_messages(system_message, user_message, delimiter):\n",
    "    messages = [  \n",
    "        {'role':'system', \n",
    "         'content': system_message},    \n",
    "        {'role':'user', \n",
    "         'content': f\"{delimiter}{user_message}{delimiter}\"},  \n",
    "        ]\n",
    "    response = client.chat.completions.create(\n",
    "        model=\"gpt-3.5-turbo\",\n",
    "        messages=messages,\n",
    "        max_tokens=max_tokens\n",
    "    )\n",
    "    return response.choices[0].message.content.strip()"
   ]
  },
  {
   "cell_type": "markdown",
   "id": "0ad0fc23",
   "metadata": {},
   "source": [
    "## Initial System Setup"
   ]
  },
  {
   "cell_type": "code",
   "execution_count": 7,
   "id": "b716a520",
   "metadata": {},
   "outputs": [],
   "source": [
    "delimiter = \"####\"\n",
    "\n",
    "system_message = f\"\"\"\n",
    "You will be provided with a list of patient reviews regarding medications.  \n",
    "Each review will be delimited with {delimiter} characters.  \n",
    "Your task is to perform pharmacovigilance by classifying each review into a primary category and a secondary category based on the type of adverse drug reaction (ADR) mentioned.  \n",
    "\n",
    "Primary categories:  \n",
    "- Mild Reaction: Reactions that are not life-threatening and have minor effects on the patient's health.  \n",
    "- Moderate Reaction: Reactions that are more significant but do not require immediate intervention.  \n",
    "- Severe Reaction: Reactions that are life-threatening or require immediate medical intervention.\n",
    "\n",
    "Mild Reaction secondary categories:  \n",
    "- Skin rash  \n",
    "- Headache  \n",
    "- Fatigue  \n",
    "- Gastrointestinal discomfort  \n",
    "\n",
    "Moderate Reaction secondary categories:  \n",
    "- Dizziness  \n",
    "- Nausea  \n",
    "- Vision changes  \n",
    "- Breathing difficulty  \n",
    "\n",
    "Severe Reaction secondary categories:  \n",
    "- Anaphylaxis  \n",
    "- Heart attack  \n",
    "- Organ failure  \n",
    "- Seizures\n",
    "\n",
    "Provide the output in JSON format with the keys: \"primary\" and \"secondary.\"\n",
    "\"\"\""
   ]
  },
  {
   "cell_type": "code",
   "execution_count": 8,
   "id": "f4679176",
   "metadata": {},
   "outputs": [
    {
     "name": "stdout",
     "output_type": "stream",
     "text": [
      "{\n",
      "  \"primary\": \"Moderate Reaction\",\n",
      "  \"secondary\": [\n",
      "    \"Dizziness\",\n",
      "    \"Nausea\"\n",
      "  ]\n",
      "}\n"
     ]
    }
   ],
   "source": [
    "# Example user review message\n",
    "user_message = f\"\"\"I took the medication and started feeling dizzy along with some nausea after a few hours.\"\"\"\n",
    "\n",
    "# Call the completion function\n",
    "response = get_completion_from_messages(system_message, user_message, delimiter)\n",
    "\n",
    "# Print the response (classification)\n",
    "print(response)"
   ]
  },
  {
   "cell_type": "code",
   "execution_count": 9,
   "id": "a46437c6",
   "metadata": {},
   "outputs": [],
   "source": [
    "delimiter = \"####\"\n",
    "\n",
    "system_message_human_friendly = f\"\"\"\n",
    "You will be provided with a list of patient reviews regarding medications.  \n",
    "Each review will be delimited with {delimiter} characters.  \n",
    "Your task is to perform pharmacovigilance by classifying each review into a primary category and a secondary category based on the type of adverse drug reaction (ADR) mentioned.  \n",
    "\n",
    "Primary categories:  \n",
    "- Mild Reaction: Reactions that are not life-threatening and have minor effects on the patient's health.  \n",
    "- Moderate Reaction: Reactions that are more significant but do not require immediate intervention.  \n",
    "- Severe Reaction: Reactions that are life-threatening or require immediate medical intervention.\n",
    "\n",
    "Mild Reaction secondary categories:  \n",
    "- Skin rash  \n",
    "- Headache  \n",
    "- Fatigue  \n",
    "- Gastrointestinal discomfort  \n",
    "\n",
    "Moderate Reaction secondary categories:  \n",
    "- Dizziness  \n",
    "- Nausea  \n",
    "- Vision changes  \n",
    "- Breathing difficulty  \n",
    "\n",
    "Severe Reaction secondary categories:  \n",
    "- Anaphylaxis  \n",
    "- Heart attack  \n",
    "- Organ failure  \n",
    "- Seizures\n",
    "\n",
    "Then write a brief summary in which you synthetize the review.\n",
    "\n",
    "Provide the output in JSON format with the keys: \"primary\", \"secondary\", \"review\".\n",
    "\"\"\""
   ]
  },
  {
   "cell_type": "code",
   "execution_count": 10,
   "id": "b46f269e",
   "metadata": {},
   "outputs": [
    {
     "name": "stdout",
     "output_type": "stream",
     "text": [
      "{\n",
      "    \"primary\": \"Moderate Reaction\",\n",
      "    \"secondary\": [\"Dizziness\", \"Nausea\"],\n",
      "    \"review\": \"The patient reported feeling dizzy and experiencing nausea after taking the medication.\"\n",
      "}\n"
     ]
    }
   ],
   "source": [
    "# Example user review message\n",
    "user_message = f\"\"\"I took the medication and started feeling dizzy along with some nausea after a few hours.\"\"\"\n",
    "\n",
    "# Call the completion function\n",
    "response = get_completion_from_messages(system_message_human_friendly, user_message, delimiter)\n",
    "\n",
    "# Print the response (classification)\n",
    "print(response)"
   ]
  },
  {
   "cell_type": "code",
   "execution_count": 11,
   "id": "e90987ae",
   "metadata": {},
   "outputs": [],
   "source": [
    "negative_user_reviews = [\n",
    "    \"After taking the medication, I experienced severe nausea and dizziness.\",\n",
    "    \"I developed a rash on my arms and legs after three days of using the drug.\",\n",
    "    \"The medication caused constant fatigue, and I felt very weak throughout the day.\",\n",
    "    \"I had trouble breathing and felt chest tightness after the first dose.\",\n",
    "    \"I noticed my vision became blurry and I felt lightheaded for several hours.\",\n",
    "    \"The drug gave me severe headaches, and I couldn’t focus on anything.\",\n",
    "    \"After a few weeks, I started experiencing gastrointestinal discomfort and stomach cramps.\",\n",
    "    \"I had an allergic reaction, including swelling and difficulty breathing. I had to go to the emergency room.\",\n",
    "    \"My heart started racing, and I felt anxious after taking the medication for two days.\",\n",
    "    \"I had seizures after starting this medication, which had never happened before.\"\n",
    "]\n",
    "\n",
    "positive_user_reviews = [\n",
    "    \"This medication worked wonders for my migraines, and I felt relief within hours!\",\n",
    "    \"After starting this treatment, my energy levels improved, and I no longer feel tired throughout the day.\",\n",
    "    \"My blood pressure has been stable ever since I began taking this medication. I’m very satisfied with the results.\",\n",
    "    \"This drug completely cleared up my skin condition, and I haven’t had any side effects.\",\n",
    "    \"I’ve been using this medication for months, and it’s been a life-changer. My pain has significantly decreased.\",\n",
    "    \"The treatment helped me sleep better at night, and I wake up feeling refreshed and full of energy.\",\n",
    "    \"My mood has improved dramatically since starting this medication, and I feel much more positive overall.\",\n",
    "    \"I haven’t had any side effects, and my symptoms have almost completely disappeared. This drug has been a game-changer.\",\n",
    "    \"My joint pain has reduced significantly, and I can now move freely without discomfort.\",\n",
    "    \"The medication was easy to take, and I saw improvements within the first week. Very happy with the results!\"\n",
    "]"
   ]
  },
  {
   "cell_type": "code",
   "execution_count": 18,
   "id": "c00edf67",
   "metadata": {},
   "outputs": [],
   "source": [
    "def evaluate(user_message):\n",
    "    # Delimiter for the review\n",
    "    delimiter = \"####\"\n",
    "    \n",
    "    # Call the completion function\n",
    "    response = get_completion_from_messages(system_message_human_friendly, user_message, delimiter)\n",
    "\n",
    "    # Print the response (classification)\n",
    "    # print(response)\n",
    "    \n",
    "    return response"
   ]
  },
  {
   "cell_type": "code",
   "execution_count": 19,
   "id": "930c4f63",
   "metadata": {},
   "outputs": [
    {
     "name": "stdout",
     "output_type": "stream",
     "text": [
      "After taking the medication, I experienced severe nausea and dizziness.\n",
      "{\n",
      "    \"primary\": \"Moderate Reaction\",\n",
      "    \"secondary\": [\n",
      "        \"Nausea\",\n",
      "        \"Dizziness\"\n",
      "    ],\n",
      "    \"review\": \"After taking the medication, the patient experienced severe nausea and dizziness.\"\n",
      "}\n"
     ]
    }
   ],
   "source": [
    "# Initialize an empty list to hold combined data\n",
    "combined_responses = []\n",
    "\n",
    "# Iterate over negative user reviews and their evaluated responses\n",
    "for rev in negative_user_reviews:\n",
    "    response = evaluate(rev)  # Assume this function evaluates the review\n",
    "    combined_responses.append({\"review\": rev, \"response\": response})\n",
    "\n",
    "# Print the first negative user review and its response\n",
    "print(combined_responses[0]['review'])\n",
    "print(combined_responses[0]['response'])"
   ]
  },
  {
   "cell_type": "code",
   "execution_count": 20,
   "id": "f3110622",
   "metadata": {},
   "outputs": [
    {
     "name": "stdout",
     "output_type": "stream",
     "text": [
      "Combined responses have been saved to 'combined_responses.json'.\n"
     ]
    }
   ],
   "source": [
    "import json\n",
    "\n",
    "# Save the combined responses to a JSON file\n",
    "with open('combined_responses_neg.json', 'w') as file:\n",
    "    json.dump(combined_responses, file, indent=4)\n",
    "\n",
    "print(\"Combined responses have been saved to 'combined_responses.json'.\")\n"
   ]
  },
  {
   "cell_type": "code",
   "execution_count": 21,
   "id": "ba77f533",
   "metadata": {},
   "outputs": [
    {
     "name": "stdout",
     "output_type": "stream",
     "text": [
      "This medication worked wonders for my migraines, and I felt relief within hours!\n",
      "{\n",
      "    \"primary\": \"Mild Reaction\",\n",
      "    \"secondary\": \"Headache\",\n",
      "    \"review\": \"This medication worked wonders for my migraines, and I felt relief within hours!\"\n",
      "}\n",
      "Combined responses have been saved to 'combined_responses.json'.\n"
     ]
    }
   ],
   "source": [
    "# Initialize an empty list to hold combined data\n",
    "combined_responses = []\n",
    "\n",
    "# Iterate over negative user reviews and their evaluated responses\n",
    "for rev in positive_user_reviews:\n",
    "    response = evaluate(rev)  # Assume this function evaluates the review\n",
    "    combined_responses.append({\"review\": rev, \"response\": response})\n",
    "\n",
    "# Print the first negative user review and its response\n",
    "print(combined_responses[0]['review'])\n",
    "print(combined_responses[0]['response'])\n",
    "\n",
    "# Save the combined responses to a JSON file\n",
    "with open('combined_responses_pos.json', 'w') as file:\n",
    "    json.dump(combined_responses, file, indent=4)\n",
    "\n",
    "print(\"Combined responses have been saved to 'combined_responses.json'.\")"
   ]
  },
  {
   "cell_type": "markdown",
   "id": "afba020b",
   "metadata": {},
   "source": [
    "## Real world Vantin review"
   ]
  },
  {
   "cell_type": "code",
   "execution_count": 27,
   "id": "6d61cf24",
   "metadata": {},
   "outputs": [],
   "source": [
    "def perform_review_analysis(reviews_list, output_filename):\n",
    "    for rev in reviews_list:\n",
    "        response = evaluate(rev)  # Assume this function evaluates the review\n",
    "        combined_responses.append({\"review\": rev, \"response\": response})\n",
    "\n",
    "    # Save the combined responses to a JSON file\n",
    "    with open(output_filename, 'w') as file:\n",
    "        json.dump(combined_responses, file, indent=4)"
   ]
  },
  {
   "cell_type": "code",
   "execution_count": 24,
   "id": "2e392aa6",
   "metadata": {},
   "outputs": [],
   "source": [
    "vantin_user_reviews = []\n",
    "vantin_user_reviews_link = ''\n",
    "\n",
    "with open('Vantin_user_reviews.txt', 'r') as f:\n",
    "    for line in f:\n",
    "        if 'http' in line:\n",
    "            vantin_user_reviews_link = line\n",
    "        else:\n",
    "            vantin_user_reviews.append(line)"
   ]
  },
  {
   "cell_type": "code",
   "execution_count": 26,
   "id": "f615a689",
   "metadata": {},
   "outputs": [
    {
     "name": "stdout",
     "output_type": "stream",
     "text": [
      "For Pneumonia \"On my fourth pill of Vantin in a few more hours, and I couldn't believe the rapidity of the healing! I am taking it for Klebsiella pneumoniae, along with Macrobid for Enterobacter bacteria! I have had dry mouth, dry throat, increased thirst, slight ringing in ears that has passed, headache, ugh, was the worst so far, but not horrible. Heavier menstrual period, a little dizziness, and hey! I'm penicillin allergic. So I think I'm doing A-1.\"\n",
      "\n"
     ]
    }
   ],
   "source": [
    "print(vantin_user_reviews[0])"
   ]
  },
  {
   "cell_type": "code",
   "execution_count": 28,
   "id": "16461d57",
   "metadata": {},
   "outputs": [],
   "source": [
    "filename = 'vantin_review_analysis_result.json'\n",
    "perform_review_analysis(vantin_user_reviews, filename)"
   ]
  },
  {
   "cell_type": "markdown",
   "id": "828f1495",
   "metadata": {},
   "source": [
    "## Prettify json output"
   ]
  },
  {
   "cell_type": "code",
   "execution_count": 35,
   "id": "b6aff32a",
   "metadata": {},
   "outputs": [
    {
     "name": "stdout",
     "output_type": "stream",
     "text": [
      "[{'review': 'This medication worked wonders for my migraines, and I felt relief within hours!', 'response': '{\\n    \"primary\": \"Mild Reaction\",\\n    \"secondary\": \"Headache\",\\n    \"review\": \"This medication worked wonders for my migraines, and I felt relief within hours!\"\\n}'}, {'review': 'After starting this treatment, my energy levels improved, and I no longer feel tired throughout the day.', 'response': '{\\n    \"primary\": \"Mild Reaction\",\\n    \"secondary\": \"Fatigue\",\\n    \"review\": \"After starting this treatment, the patient experienced improved energy levels and no longer feels tired throughout the day.\"\\n}'}, {'review': 'My blood pressure has been stable ever since I began taking this medication. I’m very satisfied with the results.', 'response': '{\\n    \"primary\": \"Mild Reaction\",\\n    \"secondary\": null,\\n    \"review\": \"This medication has helped stabilize my blood pressure, and I am very satisfied with the results.\"\\n}'}, {'review': 'This drug completely cleared up my skin condition, and I haven’t had any side effects.', 'response': '{\\n    \"primary\": \"Mild Reaction\",\\n    \"secondary\": \"Skin rash\",\\n    \"review\": \"This drug completely cleared up my skin condition, and I haven’t had any side effects.\"\\n}'}, {'review': 'I’ve been using this medication for months, and it’s been a life-changer. My pain has significantly decreased.', 'response': '{\\n    \"primary\": \"Mild Reaction\",\\n    \"secondary\": \"N/A\",\\n    \"review\": \"The medication has been a life-changer for the patient, significantly decreasing their pain over the months.\"\\n}'}, {'review': 'The treatment helped me sleep better at night, and I wake up feeling refreshed and full of energy.', 'response': '{\\n    \"primary\": \"Mild Reaction\",\\n    \"secondary\": \"Fatigue\",\\n    \"review\": \"The treatment helped the patient sleep better at night and wake up feeling refreshed and full of energy. No adverse reactions reported.\"\\n}'}, {'review': 'My mood has improved dramatically since starting this medication, and I feel much more positive overall.', 'response': '{\\n  \"primary\": \"Mild Reaction\",\\n  \"secondary\": \"N/A\",\\n  \"review\": \"This medication has had a positive impact on the patient\\'s mood, leading to a significant improvement overall.\"\\n}'}, {'review': 'I haven’t had any side effects, and my symptoms have almost completely disappeared. This drug has been a game-changer.', 'response': '{\\n    \"primary\": \"Mild Reaction\",\\n    \"secondary\": \"N/A\",\\n    \"review\": \"The patient did not experience any side effects and noticed a significant improvement in their symptoms after taking the medication, considering it a game-changer.\"\\n}'}, {'review': 'My joint pain has reduced significantly, and I can now move freely without discomfort.', 'response': '{\\n  \"primary\": \"Mild Reaction\",\\n  \"secondary\": \"None\",\\n  \"review\": \"The patient experienced a reduction in joint pain and can now move freely without discomfort.\"\\n}'}, {'review': 'The medication was easy to take, and I saw improvements within the first week. Very happy with the results!', 'response': '{\\n    \"primary\": \"Mild Reaction\",\\n    \"secondary\": \"None\",\\n    \"review\": \"The medication was easy to take, and the patient saw improvements within the first week. They are very happy with the results.\"\\n}'}, {'review': 'For Pneumonia \"On my fourth pill of Vantin in a few more hours, and I couldn\\'t believe the rapidity of the healing! I am taking it for Klebsiella pneumoniae, along with Macrobid for Enterobacter bacteria! I have had dry mouth, dry throat, increased thirst, slight ringing in ears that has passed, headache, ugh, was the worst so far, but not horrible. Heavier menstrual period, a little dizziness, and hey! I\\'m penicillin allergic. So I think I\\'m doing A-1.\"\\n', 'response': '{\\n    \"primary\": \"Mild Reaction\",\\n    \"secondary\": \"Headache\",\\n    \"review\": \"The patient experienced dry mouth, dry throat, increased thirst, slight ringing in ears, headache, heavier menstrual period, and a little dizziness while taking Vantin for pneumonia. Despite these side effects, the patient considers their overall experience to be good.\"\\n}'}, {'review': 'For Bronchitis \"On the third pill I experienced very severe diarrhea which caused me to discontinue the medication. I am still experiencing the diarrhea even though I have been off the medicine for a few days. Also experiencing malaise and fatigue.\"\\n', 'response': '```json\\n{\\n    \"primary\": \"Mild Reaction\",\\n    \"secondary\": \"Gastrointestinal discomfort\",\\n    \"review\": \"The patient experienced severe diarrhea after taking the medication for bronchitis, leading to discontinuation. They are still having diarrhea and feeling fatigued.\"\\n}\\n```'}, {'review': 'For Bladder Infection \"I\\'ve had many urinary tract infections, and the normal medicines just quit working. I\\'ve been successfully treated with Vantin three times.\"\\n', 'response': '{\\n    \"primary\": \"Mild Reaction\",\\n    \"secondary\": \"Gastrointestinal discomfort\",\\n    \"review\": \"The patient mentioned successful treatment with Vantin for bladder infection, experiencing no severe adverse reactions. However, they may have experienced gastrointestinal discomfort as a mild reaction.\"\\n}'}, {'review': 'For Sinusitis \"Vantin worked the best for me with sinusitis, whereas the \\'z-pack\\' did not relieve me at all.\"\\n', 'response': '{\\n    \"primary\": \"Mild Reaction\",\\n    \"secondary\": \"None\",\\n    \"review\": \"The patient experienced better relief from sinusitis with Vantin compared to the \\'z-pack\\'.\"\\n}'}, {'review': 'For Pneumonia \"This antibiotic worked really fast with no side effects for me.\"\\n', 'response': '{\\n  \"primary\": \"Mild Reaction\",\\n  \"secondary\": null,\\n  \"review\": \"This antibiotic worked really fast with no side effects for me. (Mild Reaction)\"\\n}'}, {'review': 'For Upper Respiratory Tract Infection \"Works great..... No side effects and clears up my frequent sinus infections quickly!\"', 'response': '{\\n  \"primary\": \"Mild Reaction\",\\n  \"secondary\": null,\\n  \"review\": \"For Upper Respiratory Tract Infection \\'Works great..... No side effects and clears up my frequent sinus infections quickly!\\'\"\\n}'}]\n"
     ]
    }
   ],
   "source": [
    "with open(filename, 'r') as file:\n",
    "    data = json.load(file)\n",
    "\n",
    "print(data)"
   ]
  },
  {
   "cell_type": "code",
   "execution_count": 36,
   "id": "5ce36f9c",
   "metadata": {},
   "outputs": [
    {
     "data": {
      "text/html": [
       "<table border=\"1\" class=\"dataframe table table-striped\">\n",
       "  <thead>\n",
       "    <tr style=\"text-align: right;\">\n",
       "      <th>review</th>\n",
       "      <th>response</th>\n",
       "    </tr>\n",
       "  </thead>\n",
       "  <tbody>\n",
       "    <tr>\n",
       "      <td>This medication worked wonders for my migraines, and I felt relief within hours!</td>\n",
       "      <td>{\\n    \"primary\": \"Mild Reaction\",\\n    \"secondary\": \"Headache\",\\n    \"review\": \"This medication worked wonders for my migraines, and I felt relief within hours!\"\\n}</td>\n",
       "    </tr>\n",
       "    <tr>\n",
       "      <td>After starting this treatment, my energy levels improved, and I no longer feel tired throughout the day.</td>\n",
       "      <td>{\\n    \"primary\": \"Mild Reaction\",\\n    \"secondary\": \"Fatigue\",\\n    \"review\": \"After starting this treatment, the patient experienced improved energy levels and no longer feels tired throughout the day.\"\\n}</td>\n",
       "    </tr>\n",
       "    <tr>\n",
       "      <td>My blood pressure has been stable ever since I began taking this medication. I’m very satisfied with the results.</td>\n",
       "      <td>{\\n    \"primary\": \"Mild Reaction\",\\n    \"secondary\": null,\\n    \"review\": \"This medication has helped stabilize my blood pressure, and I am very satisfied with the results.\"\\n}</td>\n",
       "    </tr>\n",
       "    <tr>\n",
       "      <td>This drug completely cleared up my skin condition, and I haven’t had any side effects.</td>\n",
       "      <td>{\\n    \"primary\": \"Mild Reaction\",\\n    \"secondary\": \"Skin rash\",\\n    \"review\": \"This drug completely cleared up my skin condition, and I haven’t had any side effects.\"\\n}</td>\n",
       "    </tr>\n",
       "    <tr>\n",
       "      <td>I’ve been using this medication for months, and it’s been a life-changer. My pain has significantly decreased.</td>\n",
       "      <td>{\\n    \"primary\": \"Mild Reaction\",\\n    \"secondary\": \"N/A\",\\n    \"review\": \"The medication has been a life-changer for the patient, significantly decreasing their pain over the months.\"\\n}</td>\n",
       "    </tr>\n",
       "    <tr>\n",
       "      <td>The treatment helped me sleep better at night, and I wake up feeling refreshed and full of energy.</td>\n",
       "      <td>{\\n    \"primary\": \"Mild Reaction\",\\n    \"secondary\": \"Fatigue\",\\n    \"review\": \"The treatment helped the patient sleep better at night and wake up feeling refreshed and full of energy. No adverse reactions reported.\"\\n}</td>\n",
       "    </tr>\n",
       "    <tr>\n",
       "      <td>My mood has improved dramatically since starting this medication, and I feel much more positive overall.</td>\n",
       "      <td>{\\n  \"primary\": \"Mild Reaction\",\\n  \"secondary\": \"N/A\",\\n  \"review\": \"This medication has had a positive impact on the patient's mood, leading to a significant improvement overall.\"\\n}</td>\n",
       "    </tr>\n",
       "    <tr>\n",
       "      <td>I haven’t had any side effects, and my symptoms have almost completely disappeared. This drug has been a game-changer.</td>\n",
       "      <td>{\\n    \"primary\": \"Mild Reaction\",\\n    \"secondary\": \"N/A\",\\n    \"review\": \"The patient did not experience any side effects and noticed a significant improvement in their symptoms after taking the medication, considering it a game-changer.\"\\n}</td>\n",
       "    </tr>\n",
       "    <tr>\n",
       "      <td>My joint pain has reduced significantly, and I can now move freely without discomfort.</td>\n",
       "      <td>{\\n  \"primary\": \"Mild Reaction\",\\n  \"secondary\": \"None\",\\n  \"review\": \"The patient experienced a reduction in joint pain and can now move freely without discomfort.\"\\n}</td>\n",
       "    </tr>\n",
       "    <tr>\n",
       "      <td>The medication was easy to take, and I saw improvements within the first week. Very happy with the results!</td>\n",
       "      <td>{\\n    \"primary\": \"Mild Reaction\",\\n    \"secondary\": \"None\",\\n    \"review\": \"The medication was easy to take, and the patient saw improvements within the first week. They are very happy with the results.\"\\n}</td>\n",
       "    </tr>\n",
       "    <tr>\n",
       "      <td>For Pneumonia \"On my fourth pill of Vantin in a few more hours, and I couldn't believe the rapidity of the healing! I am taking it for Klebsiella pneumoniae, along with Macrobid for Enterobacter bacteria! I have had dry mouth, dry throat, increased thirst, slight ringing in ears that has passed, headache, ugh, was the worst so far, but not horrible. Heavier menstrual period, a little dizziness, and hey! I'm penicillin allergic. So I think I'm doing A-1.\"\\n</td>\n",
       "      <td>{\\n    \"primary\": \"Mild Reaction\",\\n    \"secondary\": \"Headache\",\\n    \"review\": \"The patient experienced dry mouth, dry throat, increased thirst, slight ringing in ears, headache, heavier menstrual period, and a little dizziness while taking Vantin for pneumonia. Despite these side effects, the patient considers their overall experience to be good.\"\\n}</td>\n",
       "    </tr>\n",
       "    <tr>\n",
       "      <td>For Bronchitis \"On the third pill I experienced very severe diarrhea which caused me to discontinue the medication. I am still experiencing the diarrhea even though I have been off the medicine for a few days. Also experiencing malaise and fatigue.\"\\n</td>\n",
       "      <td>```json\\n{\\n    \"primary\": \"Mild Reaction\",\\n    \"secondary\": \"Gastrointestinal discomfort\",\\n    \"review\": \"The patient experienced severe diarrhea after taking the medication for bronchitis, leading to discontinuation. They are still having diarrhea and feeling fatigued.\"\\n}\\n```</td>\n",
       "    </tr>\n",
       "    <tr>\n",
       "      <td>For Bladder Infection \"I've had many urinary tract infections, and the normal medicines just quit working. I've been successfully treated with Vantin three times.\"\\n</td>\n",
       "      <td>{\\n    \"primary\": \"Mild Reaction\",\\n    \"secondary\": \"Gastrointestinal discomfort\",\\n    \"review\": \"The patient mentioned successful treatment with Vantin for bladder infection, experiencing no severe adverse reactions. However, they may have experienced gastrointestinal discomfort as a mild reaction.\"\\n}</td>\n",
       "    </tr>\n",
       "    <tr>\n",
       "      <td>For Sinusitis \"Vantin worked the best for me with sinusitis, whereas the 'z-pack' did not relieve me at all.\"\\n</td>\n",
       "      <td>{\\n    \"primary\": \"Mild Reaction\",\\n    \"secondary\": \"None\",\\n    \"review\": \"The patient experienced better relief from sinusitis with Vantin compared to the 'z-pack'.\"\\n}</td>\n",
       "    </tr>\n",
       "    <tr>\n",
       "      <td>For Pneumonia \"This antibiotic worked really fast with no side effects for me.\"\\n</td>\n",
       "      <td>{\\n  \"primary\": \"Mild Reaction\",\\n  \"secondary\": null,\\n  \"review\": \"This antibiotic worked really fast with no side effects for me. (Mild Reaction)\"\\n}</td>\n",
       "    </tr>\n",
       "    <tr>\n",
       "      <td>For Upper Respiratory Tract Infection \"Works great..... No side effects and clears up my frequent sinus infections quickly!\"</td>\n",
       "      <td>{\\n  \"primary\": \"Mild Reaction\",\\n  \"secondary\": null,\\n  \"review\": \"For Upper Respiratory Tract Infection 'Works great..... No side effects and clears up my frequent sinus infections quickly!'\"\\n}</td>\n",
       "    </tr>\n",
       "  </tbody>\n",
       "</table>"
      ],
      "text/plain": [
       "<IPython.core.display.HTML object>"
      ]
     },
     "execution_count": 36,
     "metadata": {},
     "output_type": "execute_result"
    }
   ],
   "source": [
    "import pandas as pd\n",
    "from IPython.display import HTML\n",
    "\n",
    "# Convert JSON to DataFrame\n",
    "df = pd.DataFrame(data)\n",
    "\n",
    "# Create an HTML table\n",
    "html_table = df.to_html(classes='table table-striped', index=False)\n",
    "\n",
    "# Display the HTML\n",
    "HTML(html_table)\n"
   ]
  },
  {
   "cell_type": "code",
   "execution_count": null,
   "id": "e1e5f1bc",
   "metadata": {},
   "outputs": [],
   "source": []
  }
 ],
 "metadata": {
  "kernelspec": {
   "display_name": "Python 3 (ipykernel)",
   "language": "python",
   "name": "python3"
  },
  "language_info": {
   "codemirror_mode": {
    "name": "ipython",
    "version": 3
   },
   "file_extension": ".py",
   "mimetype": "text/x-python",
   "name": "python",
   "nbconvert_exporter": "python",
   "pygments_lexer": "ipython3",
   "version": "3.10.9"
  }
 },
 "nbformat": 4,
 "nbformat_minor": 5
}
